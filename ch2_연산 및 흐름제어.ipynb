{
 "cells": [
  {
   "cell_type": "markdown",
   "id": "7fe7cdb0",
   "metadata": {},
   "source": [
    "# 연산 및 흐름제어\n",
    "\n",
    "* [1. 연산](#chapter1)\n",
    "* [2. 조건문](#chapter2)\n",
    "* [3. 반복문](#chapter3)"
   ]
  },
  {
   "cell_type": "markdown",
   "id": "13379fae",
   "metadata": {},
   "source": [
    "<a class=\"anchor\" id=\"chapter1\"></a>\n",
    "## 1. 연산"
   ]
  },
  {
   "cell_type": "markdown",
   "id": "d230af94",
   "metadata": {},
   "source": [
    "+ 수치 연산\n",
    "#### + 더하기, - 빼기, * 곱하기, ** 제곱, / 나누기, // 몫, % 나머지"
   ]
  },
  {
   "cell_type": "markdown",
   "id": "c7d35504",
   "metadata": {},
   "source": [
    "+ 대입 연산  \n",
    "x += y 는 x = x + y"
   ]
  },
  {
   "cell_type": "markdown",
   "id": "2b8c7e3b",
   "metadata": {},
   "source": [
    "+ 비교 연산  \n",
    "=, ==, !=, >, <, <=, >= "
   ]
  },
  {
   "cell_type": "markdown",
   "id": "6c70772e",
   "metadata": {},
   "source": [
    "+ 논리연산자  \n",
    "and, or, not"
   ]
  },
  {
   "cell_type": "markdown",
   "id": "6a841edd",
   "metadata": {},
   "source": [
    "+ 구성원 연산자  \n",
    "in, not in"
   ]
  },
  {
   "cell_type": "markdown",
   "id": "2443c723",
   "metadata": {},
   "source": [
    "+ 연산자 활용"
   ]
  },
  {
   "cell_type": "code",
   "execution_count": 18,
   "id": "cfcfcffd",
   "metadata": {},
   "outputs": [],
   "source": [
    "a = [\n",
    "    {'num':'1','name':'김철수','kor':90,'eng':80,'math':85,'total':0,'avg':0.0},\n",
    "    {'num':'2','name':'박민주','kor':90,'eng':85,'math':90,'total':0,'avg':0.0},\n",
    "    {'num':'3','name':'박영호','kor':80,'eng':80,'math':80,'total':0,'avg':0.0},\n",
    "]"
   ]
  },
  {
   "cell_type": "code",
   "execution_count": 19,
   "id": "7cbc7873",
   "metadata": {},
   "outputs": [
    {
     "data": {
      "text/plain": [
       "{'num': '1',\n",
       " 'name': '김철수',\n",
       " 'kor': 90,\n",
       " 'eng': 80,\n",
       " 'math': 85,\n",
       " 'total': 0,\n",
       " 'avg': 0.0}"
      ]
     },
     "execution_count": 19,
     "metadata": {},
     "output_type": "execute_result"
    }
   ],
   "source": [
    "# 첫번째 딕셔너리 출력\n",
    "a[0]"
   ]
  },
  {
   "cell_type": "code",
   "execution_count": 20,
   "id": "9bac4f6e",
   "metadata": {},
   "outputs": [
    {
     "data": {
      "text/plain": [
       "0"
      ]
     },
     "execution_count": 20,
     "metadata": {},
     "output_type": "execute_result"
    }
   ],
   "source": [
    "# 첫번째 딕셔너리에 total의 key값 출력\n",
    "a[0]['total']"
   ]
  },
  {
   "cell_type": "code",
   "execution_count": 21,
   "id": "a434078d",
   "metadata": {},
   "outputs": [
    {
     "data": {
      "text/plain": [
       "{'num': '1',\n",
       " 'name': '김철수',\n",
       " 'kor': 90,\n",
       " 'eng': 80,\n",
       " 'math': 85,\n",
       " 'total': 1,\n",
       " 'avg': 0.0}"
      ]
     },
     "execution_count": 21,
     "metadata": {},
     "output_type": "execute_result"
    }
   ],
   "source": [
    "# 첫번째 딕셔너리에 total의 key값에 1을 입력\n",
    "a[0]['total'] = 1\n",
    "a[0]"
   ]
  },
  {
   "cell_type": "code",
   "execution_count": 26,
   "id": "dc75ba2d",
   "metadata": {},
   "outputs": [
    {
     "data": {
      "text/plain": [
       "[{'num': '1',\n",
       "  'name': '김철수',\n",
       "  'kor': 90,\n",
       "  'eng': 80,\n",
       "  'math': 85,\n",
       "  'total': 255,\n",
       "  'avg': 0.0},\n",
       " {'num': '2',\n",
       "  'name': '박민주',\n",
       "  'kor': 90,\n",
       "  'eng': 85,\n",
       "  'math': 90,\n",
       "  'total': 265,\n",
       "  'avg': 0.0},\n",
       " {'num': '3',\n",
       "  'name': '박영호',\n",
       "  'kor': 80,\n",
       "  'eng': 80,\n",
       "  'math': 80,\n",
       "  'total': 240,\n",
       "  'avg': 0.0}]"
      ]
     },
     "execution_count": 26,
     "metadata": {},
     "output_type": "execute_result"
    }
   ],
   "source": [
    "#학생별 합계구하기\n",
    "a[0]['total'] = a[0]['kor']+a[0]['eng']+a[0]['math']\n",
    "a[1]['total'] = a[1]['kor']+a[1]['eng']+a[1]['math']\n",
    "a[2]['total'] = a[2]['kor']+a[2]['eng']+a[2]['math']\n",
    "a"
   ]
  },
  {
   "cell_type": "code",
   "execution_count": 27,
   "id": "087a18ba",
   "metadata": {},
   "outputs": [
    {
     "data": {
      "text/plain": [
       "[{'num': '1',\n",
       "  'name': '김철수',\n",
       "  'kor': 90,\n",
       "  'eng': 80,\n",
       "  'math': 85,\n",
       "  'total': 255,\n",
       "  'avg': 85.0},\n",
       " {'num': '2',\n",
       "  'name': '박민주',\n",
       "  'kor': 90,\n",
       "  'eng': 85,\n",
       "  'math': 90,\n",
       "  'total': 265,\n",
       "  'avg': 88.33333333333333},\n",
       " {'num': '3',\n",
       "  'name': '박영호',\n",
       "  'kor': 80,\n",
       "  'eng': 80,\n",
       "  'math': 80,\n",
       "  'total': 240,\n",
       "  'avg': 80.0}]"
      ]
     },
     "execution_count": 27,
     "metadata": {},
     "output_type": "execute_result"
    }
   ],
   "source": [
    "#학생별 평균구하기\n",
    "a[0]['avg'] = a[0]['total']/3\n",
    "a[1]['avg'] = a[1]['total']/3\n",
    "a[2]['avg'] = a[2]['total']/3\n",
    "a"
   ]
  },
  {
   "cell_type": "code",
   "execution_count": 28,
   "id": "38140ba0",
   "metadata": {},
   "outputs": [
    {
     "data": {
      "text/plain": [
       "253.33333333333331"
      ]
     },
     "execution_count": 28,
     "metadata": {},
     "output_type": "execute_result"
    }
   ],
   "source": [
    "#학급 평균구하기\n",
    "a[0]['avg']+a[1]['avg']+a[2]['avg']"
   ]
  },
  {
   "cell_type": "markdown",
   "id": "8a2ea52c",
   "metadata": {},
   "source": [
    "<a class=\"anchor\" id=\"chapter2\"></a>\n",
    "## 2. 조건문"
   ]
  },
  {
   "cell_type": "markdown",
   "id": "0deec698",
   "metadata": {},
   "source": [
    "#### if문\n",
    "만약 조건이 성립한다(TRUE)면 ...을 실행한다"
   ]
  },
  {
   "cell_type": "markdown",
   "id": "c95a4f8f",
   "metadata": {},
   "source": [
    "#### if-else문\n",
    "조건이 하나일때 : if-else문의 구조"
   ]
  },
  {
   "cell_type": "markdown",
   "id": "ac545374",
   "metadata": {},
   "source": [
    "+ input함수: 사용자가 어떤 값을 입력하게 하고, 그 값을 변수에 저장할 수 있음\n",
    "+ float함수: 실수형으로 변환\n",
    "+ int함수: 정수형으로 변환\n",
    "+ str함수: 텍스트 형태로 변환"
   ]
  },
  {
   "cell_type": "code",
   "execution_count": 32,
   "id": "858414c9",
   "metadata": {},
   "outputs": [
    {
     "name": "stdout",
     "output_type": "stream",
     "text": [
      "총 학점 평균을 입력해 주세요:4\n"
     ]
    }
   ],
   "source": [
    "grade = float(input('총 학점 평균을 입력해 주세요:'))"
   ]
  },
  {
   "cell_type": "code",
   "execution_count": 33,
   "id": "eef4e792",
   "metadata": {},
   "outputs": [
    {
     "name": "stdout",
     "output_type": "stream",
     "text": [
      "안타깝습니다. 더 노력하세요.\n"
     ]
    }
   ],
   "source": [
    "if grade >= 4.3:\n",
    "    print('당신은 장학금 수여 대상자입니다')\n",
    "    print('축하합니다')\n",
    "else:\n",
    "    print('안타깝습니다. 더 노력하세요.')"
   ]
  },
  {
   "cell_type": "markdown",
   "id": "e4c49252",
   "metadata": {},
   "source": [
    "#### if-elif-else문\n",
    "조건이 여러개 일때 : if-elif-else문의 구조"
   ]
  },
  {
   "cell_type": "markdown",
   "id": "3da0723d",
   "metadata": {},
   "source": [
    "#### 중첩된 if 문\n",
    "if문 안에 또 if문이 들어갈 수 있음"
   ]
  },
  {
   "cell_type": "code",
   "execution_count": 36,
   "id": "16e4bb37",
   "metadata": {},
   "outputs": [
    {
     "name": "stdout",
     "output_type": "stream",
     "text": [
      "나이를 입력하세요:24\n"
     ]
    }
   ],
   "source": [
    "age = int(input('나이를 입력하세요:'))"
   ]
  },
  {
   "cell_type": "code",
   "execution_count": 37,
   "id": "a4e0b7c2",
   "metadata": {},
   "outputs": [
    {
     "name": "stdout",
     "output_type": "stream",
     "text": [
      "키를 입력하세요:168\n"
     ]
    }
   ],
   "source": [
    "height = float(input('키를 입력하세요:'))"
   ]
  },
  {
   "cell_type": "code",
   "execution_count": 38,
   "id": "d287a171",
   "metadata": {},
   "outputs": [
    {
     "name": "stdout",
     "output_type": "stream",
     "text": [
      "키가 보통입니다\n"
     ]
    }
   ],
   "source": [
    "if age >= 40: #나이가 40이상\n",
    "    if height >= 170:\n",
    "        print('키가 보통 이상입니다')\n",
    "    else:\n",
    "        print('키가 보통입니다')\n",
    "else: #나이가 40미만\n",
    "    if height >= 175:\n",
    "        print('키가 보통 이상입니다')\n",
    "    else:\n",
    "        print('키가 보통입니다')"
   ]
  },
  {
   "cell_type": "markdown",
   "id": "6edf01af",
   "metadata": {},
   "source": [
    "<a class=\"anchor\" id=\"chapter3\"></a>\n",
    "## 반복문"
   ]
  },
  {
   "cell_type": "markdown",
   "id": "9afca7cd",
   "metadata": {},
   "source": [
    "#### for문\n",
    "for 반복변수 in 리스트(튜플, 문자열) 실행 문장"
   ]
  },
  {
   "cell_type": "code",
   "execution_count": 39,
   "id": "b947c44c",
   "metadata": {},
   "outputs": [],
   "source": [
    "d = {'circle':2,'rectangle':3,'line':1}"
   ]
  },
  {
   "cell_type": "code",
   "execution_count": 40,
   "id": "8aafef10",
   "metadata": {},
   "outputs": [],
   "source": [
    "# 집합\n",
    "e = {'red','green','blue','red'}"
   ]
  },
  {
   "cell_type": "code",
   "execution_count": 41,
   "id": "a7dd5911",
   "metadata": {},
   "outputs": [
    {
     "name": "stdout",
     "output_type": "stream",
     "text": [
      "circle\n",
      "rectangle\n",
      "line\n"
     ]
    }
   ],
   "source": [
    "# 딕셔너리는 key만 반환\n",
    "for x in d:\n",
    "    print(x)"
   ]
  },
  {
   "cell_type": "code",
   "execution_count": 42,
   "id": "d6443ae7",
   "metadata": {},
   "outputs": [
    {
     "name": "stdout",
     "output_type": "stream",
     "text": [
      "green\n",
      "red\n",
      "blue\n"
     ]
    }
   ],
   "source": [
    "# 집합자료형은 순서가 없으며 중복을 허용하지 않음. 순차적으로 입력되지 않음.\n",
    "for x in e:\n",
    "    print(x)"
   ]
  },
  {
   "cell_type": "markdown",
   "id": "dbd4353a",
   "metadata": {},
   "source": [
    "+ range  \n",
    "range(시작숫자(이상), 종료숫자(미만), 간격)의 형태"
   ]
  },
  {
   "cell_type": "markdown",
   "id": "8dce422e",
   "metadata": {},
   "source": [
    "### 이중 for문"
   ]
  },
  {
   "cell_type": "code",
   "execution_count": 43,
   "id": "4f7d1229",
   "metadata": {},
   "outputs": [],
   "source": [
    "result = [ ] #괄호안에 띄워야함"
   ]
  },
  {
   "cell_type": "code",
   "execution_count": 44,
   "id": "e19074d9",
   "metadata": {},
   "outputs": [],
   "source": [
    "for i in list(range(1,6)):\n",
    "    for j in list(range(1,11)):\n",
    "        k = i*j\n",
    "        result_temp = [i,j,k]\n",
    "        result.append(result_temp)"
   ]
  },
  {
   "cell_type": "code",
   "execution_count": 45,
   "id": "6862bf42",
   "metadata": {},
   "outputs": [
    {
     "name": "stdout",
     "output_type": "stream",
     "text": [
      "[[1, 1, 1], [1, 2, 2], [1, 3, 3], [1, 4, 4], [1, 5, 5], [1, 6, 6], [1, 7, 7], [1, 8, 8], [1, 9, 9], [1, 10, 10], [2, 1, 2], [2, 2, 4], [2, 3, 6], [2, 4, 8], [2, 5, 10], [2, 6, 12], [2, 7, 14], [2, 8, 16], [2, 9, 18], [2, 10, 20], [3, 1, 3], [3, 2, 6], [3, 3, 9], [3, 4, 12], [3, 5, 15], [3, 6, 18], [3, 7, 21], [3, 8, 24], [3, 9, 27], [3, 10, 30], [4, 1, 4], [4, 2, 8], [4, 3, 12], [4, 4, 16], [4, 5, 20], [4, 6, 24], [4, 7, 28], [4, 8, 32], [4, 9, 36], [4, 10, 40], [5, 1, 5], [5, 2, 10], [5, 3, 15], [5, 4, 20], [5, 5, 25], [5, 6, 30], [5, 7, 35], [5, 8, 40], [5, 9, 45], [5, 10, 50]]\n"
     ]
    }
   ],
   "source": [
    "print(result)"
   ]
  },
  {
   "cell_type": "code",
   "execution_count": 51,
   "id": "9cd70a38",
   "metadata": {},
   "outputs": [
    {
     "name": "stdout",
     "output_type": "stream",
     "text": [
      "2 4 6 8 10 12 14 16 18 \n",
      "3 6 9 12 15 18 21 24 27 \n",
      "4 8 12 16 20 24 28 32 36 \n",
      "5 10 15 20 25 30 35 40 45 \n",
      "6 12 18 24 30 36 42 48 54 \n",
      "7 14 21 28 35 42 49 56 63 \n",
      "8 16 24 32 40 48 56 64 72 \n",
      "9 18 27 36 45 54 63 72 81 \n"
     ]
    }
   ],
   "source": [
    "for a in range(2,10):\n",
    "    for b in range(1,10):\n",
    "        print(a*b, end=\" \") #아래 for문이 끝날 때 까지 이어서 결과 출력\n",
    "    print('') #줄바꿈의 역할"
   ]
  },
  {
   "cell_type": "markdown",
   "id": "5614773e",
   "metadata": {},
   "source": [
    "### for문 안에 조건문(if-else)\n",
    "데이터 분석시에 반복문(for)과 조건문(if)이 함께 활용되는 경우가 많음"
   ]
  },
  {
   "cell_type": "code",
   "execution_count": 53,
   "id": "12fb6136",
   "metadata": {},
   "outputs": [],
   "source": [
    "Score=[100,7,75,32]\n",
    "num = 0"
   ]
  },
  {
   "cell_type": "code",
   "execution_count": 54,
   "id": "7d36ffcd",
   "metadata": {},
   "outputs": [
    {
     "name": "stdout",
     "output_type": "stream",
     "text": [
      "1번 합격\n",
      "2번 불합격\n",
      "3번 합격\n",
      "4번 불합격\n"
     ]
    }
   ],
   "source": [
    "for a in Score:\n",
    "    num = num + 1\n",
    "    if a >= 70:\n",
    "        print('%d번 합격'%num)\n",
    "    else:\n",
    "        print('%d번 불합격'%num)"
   ]
  },
  {
   "cell_type": "markdown",
   "id": "e26e2519",
   "metadata": {},
   "source": [
    "### While문\n",
    "+ 조건문이 TRUE인 동안 while문이 실행\n",
    "    + 주의) 조건문이 계속 참이면 무한 반복됨"
   ]
  },
  {
   "cell_type": "markdown",
   "id": "61d0fa7d",
   "metadata": {},
   "source": [
    "#### break\n",
    "반복문(while, for)을 끝내기 위한 목적으로 사용  \n",
    "특정 조건을 만족하면 반복문 강제 종료"
   ]
  },
  {
   "cell_type": "code",
   "execution_count": null,
   "id": "9edbc747",
   "metadata": {},
   "outputs": [],
   "source": [
    "result = [ ]"
   ]
  },
  {
   "cell_type": "code",
   "execution_count": null,
   "id": "9f6b9889",
   "metadata": {},
   "outputs": [],
   "source": [
    "for i in range(1,6):\n",
    "    for j in range(1,11):\n",
    "        k = i*j\n",
    "        result_temp = [i,j,k]\n",
    "        if k>10:\n",
    "            break\n",
    "        result.append(result_temp)"
   ]
  },
  {
   "cell_type": "code",
   "execution_count": null,
   "id": "5453a0b1",
   "metadata": {},
   "outputs": [],
   "source": [
    "print(result)"
   ]
  },
  {
   "cell_type": "markdown",
   "id": "fc8a538a",
   "metadata": {},
   "source": [
    "#### continue\n",
    "반복문 실행시 continue()함수 아래에 있는 해당 step을 실행하지 않고 건너뜀"
   ]
  },
  {
   "cell_type": "code",
   "execution_count": null,
   "id": "876d71b8",
   "metadata": {},
   "outputs": [],
   "source": [
    "Score=[100,7,75,32]\n",
    "num = 0"
   ]
  },
  {
   "cell_type": "code",
   "execution_count": null,
   "id": "4a98b624",
   "metadata": {},
   "outputs": [],
   "source": [
    "for a in Score:\n",
    "    num = num + 1\n",
    "    if a < 70:\n",
    "        continue\n",
    "    else:\n",
    "        print('%d번 합격'%num)"
   ]
  }
 ],
 "metadata": {
  "kernelspec": {
   "display_name": "Python 3",
   "language": "python",
   "name": "python3"
  },
  "language_info": {
   "codemirror_mode": {
    "name": "ipython",
    "version": 3
   },
   "file_extension": ".py",
   "mimetype": "text/x-python",
   "name": "python",
   "nbconvert_exporter": "python",
   "pygments_lexer": "ipython3",
   "version": "3.8.8"
  }
 },
 "nbformat": 4,
 "nbformat_minor": 5
}
