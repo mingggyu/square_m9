{
 "cells": [
  {
   "cell_type": "markdown",
   "id": "70a0673d",
   "metadata": {},
   "source": [
    "# 데이터 타입의 종류\n",
    "\n",
    "* [1. 숫자형 타입](#chapter1)\n",
    "* [2. 문자형 타입](#chapter2)\n",
    "* [3. Boolean 타입](#chapter3)\n",
    "* [4. list 타입](#chapter4)\n",
    "* [5. tuple 타입](#chapter5)\n",
    "* [6. dict 타입](#chapter6)"
   ]
  },
  {
   "cell_type": "markdown",
   "id": "e68a5831",
   "metadata": {},
   "source": [
    "## 1. 숫자형 타입 <a class=\"anchor\" id=\"chapter1\"></a>"
   ]
  },
  {
   "cell_type": "code",
   "execution_count": 1,
   "id": "4d66bf9b",
   "metadata": {},
   "outputs": [],
   "source": [
    "# 정수형\n",
    "a = 1\n",
    "#실수형\n",
    "b = 1.2345\n",
    "#복소수형\n",
    "c = 3+4j"
   ]
  },
  {
   "cell_type": "code",
   "execution_count": 17,
   "id": "0e69e58e",
   "metadata": {},
   "outputs": [
    {
     "data": {
      "text/plain": [
       "float"
      ]
     },
     "execution_count": 17,
     "metadata": {},
     "output_type": "execute_result"
    }
   ],
   "source": [
    "# type():변수의 타입 확인\n",
    "type(b)"
   ]
  },
  {
   "cell_type": "markdown",
   "id": "4b0678ec",
   "metadata": {},
   "source": [
    "## 2. 문자형 타입 <a class=\"anchor\" id=\"chapter2\"></a>"
   ]
  },
  {
   "cell_type": "code",
   "execution_count": 9,
   "id": "414040e4",
   "metadata": {},
   "outputs": [],
   "source": [
    "sa = 'Hello Bigdata'\n",
    "se = 'and Cheer up!'"
   ]
  },
  {
   "cell_type": "code",
   "execution_count": 13,
   "id": "15ca4c85",
   "metadata": {},
   "outputs": [
    {
     "name": "stdout",
     "output_type": "stream",
     "text": [
      "Hello Bigdata and Cheer up!\n"
     ]
    }
   ],
   "source": [
    "print(sa + \" \" + se)"
   ]
  },
  {
   "cell_type": "code",
   "execution_count": 14,
   "id": "d8ecec1e",
   "metadata": {},
   "outputs": [
    {
     "data": {
      "text/plain": [
       "13"
      ]
     },
     "execution_count": 14,
     "metadata": {},
     "output_type": "execute_result"
    }
   ],
   "source": [
    "# len():문자열 길이 확인\n",
    "len(sa)"
   ]
  },
  {
   "cell_type": "code",
   "execution_count": 16,
   "id": "3694189b",
   "metadata": {},
   "outputs": [
    {
     "data": {
      "text/plain": [
       "26"
      ]
     },
     "execution_count": 16,
     "metadata": {},
     "output_type": "execute_result"
    }
   ],
   "source": [
    "len(sa*2)"
   ]
  },
  {
   "cell_type": "markdown",
   "id": "c86a5903",
   "metadata": {},
   "source": [
    "#### 2.1 문자열 인덱싱\n",
    "+ 0부터 숫자를 셈\n",
    "+ 인덱싱 방법 : 변수이름[번호]"
   ]
  },
  {
   "cell_type": "code",
   "execution_count": 19,
   "id": "939dc8d7",
   "metadata": {},
   "outputs": [
    {
     "data": {
      "text/plain": [
       "'this is a string'"
      ]
     },
     "execution_count": 19,
     "metadata": {},
     "output_type": "execute_result"
    }
   ],
   "source": [
    "a = 'this is a string'\n",
    "a"
   ]
  },
  {
   "cell_type": "code",
   "execution_count": 20,
   "id": "9c71714e",
   "metadata": {},
   "outputs": [
    {
     "name": "stdout",
     "output_type": "stream",
     "text": [
      "i\n"
     ]
    }
   ],
   "source": [
    "print(a[2])"
   ]
  },
  {
   "cell_type": "code",
   "execution_count": 21,
   "id": "9a616484",
   "metadata": {},
   "outputs": [
    {
     "name": "stdout",
     "output_type": "stream",
     "text": [
      "t\n"
     ]
    }
   ],
   "source": [
    "print(a[-5])"
   ]
  },
  {
   "cell_type": "markdown",
   "id": "7667b7aa",
   "metadata": {},
   "source": [
    "#### 2.2 문자열 슬라이싱\n",
    "+ 자료 구조 내에서 여러 개의 항목에 접근  \n",
    "+ slicing 방법 : 변수이름[시작번호:끝번호]\n",
    "    + slicing은 끝번호 값은 제외하고 출력"
   ]
  },
  {
   "cell_type": "code",
   "execution_count": 22,
   "id": "850ad24b",
   "metadata": {},
   "outputs": [],
   "source": [
    "b = '20220628Wed'"
   ]
  },
  {
   "cell_type": "code",
   "execution_count": 23,
   "id": "0edb8508",
   "metadata": {},
   "outputs": [
    {
     "name": "stdout",
     "output_type": "stream",
     "text": [
      "2022\n"
     ]
    }
   ],
   "source": [
    "print(b[0:4])"
   ]
  },
  {
   "cell_type": "code",
   "execution_count": 26,
   "id": "0d613b43",
   "metadata": {},
   "outputs": [
    {
     "name": "stdout",
     "output_type": "stream",
     "text": [
      "Wed\n"
     ]
    }
   ],
   "source": [
    "# 8번째 부터 끝까지\n",
    "print(b[8:])"
   ]
  },
  {
   "cell_type": "code",
   "execution_count": 27,
   "id": "372daa48",
   "metadata": {},
   "outputs": [
    {
     "name": "stdout",
     "output_type": "stream",
     "text": [
      "20220628Wed\n"
     ]
    }
   ],
   "source": [
    "# 전체\n",
    "print(b[:])"
   ]
  },
  {
   "cell_type": "code",
   "execution_count": 28,
   "id": "68c392da",
   "metadata": {},
   "outputs": [
    {
     "name": "stdout",
     "output_type": "stream",
     "text": [
      "202206\n"
     ]
    }
   ],
   "source": [
    "# -6번째 까지\n",
    "print(b[:-5])"
   ]
  },
  {
   "cell_type": "markdown",
   "id": "d549effe",
   "metadata": {},
   "source": [
    "#### 2.3 문자열 수정\n",
    "+ replace() : 해당 문자 변경 가능"
   ]
  },
  {
   "cell_type": "code",
   "execution_count": 31,
   "id": "e157d4a4",
   "metadata": {},
   "outputs": [],
   "source": [
    "a = 'this is a string'\n",
    "b = 'rope'"
   ]
  },
  {
   "cell_type": "code",
   "execution_count": 32,
   "id": "45412d01",
   "metadata": {},
   "outputs": [
    {
     "data": {
      "text/plain": [
       "'this is a rope'"
      ]
     },
     "execution_count": 32,
     "metadata": {},
     "output_type": "execute_result"
    }
   ],
   "source": [
    "a[:10] + b"
   ]
  },
  {
   "cell_type": "code",
   "execution_count": 33,
   "id": "60847b60",
   "metadata": {},
   "outputs": [
    {
     "data": {
      "text/plain": [
       "'this is a rope'"
      ]
     },
     "execution_count": 33,
     "metadata": {},
     "output_type": "execute_result"
    }
   ],
   "source": [
    "c = a.replace('string','rope')\n",
    "c"
   ]
  },
  {
   "cell_type": "markdown",
   "id": "1d0c0805",
   "metadata": {},
   "source": [
    "#### 2.4 문자열 format\n",
    "+ %d : 숫자(정수)\n",
    "+ %s : 문자(\"\" 필수)\n",
    "+ %f : 소수 자리수 출력\n",
    "    + %.숫자f: 표시할 소수점 아래 자릿수\n",
    "+ 여러 개의 문자열을 입력할 때 %(3,\"all\")와 같이 ,로 구분하여 추가\n",
    "+ %10s : %와 s 사이에 숫자만큼 자릿수 공간에 오른쪽으로 정렬, 숫자앞에 -를 붙이면 왼쪽 정렬"
   ]
  },
  {
   "cell_type": "code",
   "execution_count": 35,
   "id": "ea309bdb",
   "metadata": {},
   "outputs": [
    {
     "data": {
      "text/plain": [
       "'I have three children'"
      ]
     },
     "execution_count": 35,
     "metadata": {},
     "output_type": "execute_result"
    }
   ],
   "source": [
    "\"I have %s %s\" %(\"three\",\"children\")"
   ]
  },
  {
   "cell_type": "code",
   "execution_count": 36,
   "id": "645b6071",
   "metadata": {},
   "outputs": [
    {
     "data": {
      "text/plain": [
       "'      Good'"
      ]
     },
     "execution_count": 36,
     "metadata": {},
     "output_type": "execute_result"
    }
   ],
   "source": [
    "\"%10s\"%\"Good\""
   ]
  },
  {
   "cell_type": "markdown",
   "id": "1f9b31fe",
   "metadata": {},
   "source": [
    "#### 문자열 함수\n",
    "- 문자열.count(‘문자’) : 문자에 대한 개수를 샘\n",
    "- 문자열.find(‘문자’) : 찾고자 하는 문자의 위치 파악\n",
    "  - 같은 문자가 있을 땐 가장 앞에 있는 문자 위치\n",
    "  - 대소문자 구분\n",
    "  - -1이 결과값으로 나올 땐 해당 문자가 없음\n",
    "- 문자열.index(‘문자’): 찾고자 하는 문자의 위치\n",
    "  - 문자가 없을 땐 에러가 발생\n",
    "- “,”.join(‘문자’): 문자 각각 사이를 ,로 구분지음\n",
    "- 문자열.upper(): 소문자를 모두 대문자로 표현\n",
    "- 문자열.lower(): 대문자를 모두 소문자로 표현\n",
    "- 문자열.strip(): 앞뒤에 양쪽의 공백을 모두 없애기\n",
    "- 문자열.lstrip(): 왼쪽의 공백만 없애기\n",
    "- 문자열.rstrip(): 오른쪽의 공백만 없애기\n",
    "- 문자열.replace(“old문자”,“new문자”): old문자를 new문자로 변경\n",
    "- 문자열.split(): 문자열을 나누어 주는 함수.\n",
    "  - space, tab, enter등을 기준으로 문자열을 나누어줌\n",
    "  - 특정 값을 입력하면 해당 값 기준으로 나누어줌"
   ]
  },
  {
   "cell_type": "code",
   "execution_count": 39,
   "id": "974aeffd",
   "metadata": {},
   "outputs": [],
   "source": [
    "a = \"Korean culture\""
   ]
  },
  {
   "cell_type": "code",
   "execution_count": 43,
   "id": "9b5f822b",
   "metadata": {},
   "outputs": [
    {
     "data": {
      "text/plain": [
       "'K o r e a n   c u l t u r e'"
      ]
     },
     "execution_count": 43,
     "metadata": {},
     "output_type": "execute_result"
    }
   ],
   "source": [
    "b = \" \".join(a)\n",
    "b"
   ]
  },
  {
   "cell_type": "code",
   "execution_count": 44,
   "id": "2020266b",
   "metadata": {},
   "outputs": [
    {
     "data": {
      "text/plain": [
       "['K', 'o', 'r', 'e', 'a', 'n', 'c', 'u', 'l', 't', 'u', 'r', 'e']"
      ]
     },
     "execution_count": 44,
     "metadata": {},
     "output_type": "execute_result"
    }
   ],
   "source": [
    "b.split()"
   ]
  },
  {
   "cell_type": "code",
   "execution_count": 45,
   "id": "085aa583",
   "metadata": {},
   "outputs": [
    {
     "data": {
      "text/plain": [
       "['K', 'o', 'r', 'e', 'a', 'n', '', '', 'c', 'u', 'l', 't', 'u', 'r', 'e']"
      ]
     },
     "execution_count": 45,
     "metadata": {},
     "output_type": "execute_result"
    }
   ],
   "source": [
    "b.split(\" \")"
   ]
  },
  {
   "cell_type": "markdown",
   "id": "bcd299e8",
   "metadata": {},
   "source": [
    "## 3. Boolean 타입 <a class=\"anchor\" id=\"chapter3\"></a>\n",
    "- bool() : 참/거짓을 식별\n",
    "    - 문자열, list, tuple, dict가 비어져있으면 False가 되고 그렇지 않으면 True\n",
    "    - 숫자일 때 0이면 False이고 그렇지 않으면 True"
   ]
  },
  {
   "cell_type": "code",
   "execution_count": 48,
   "id": "53f634af",
   "metadata": {},
   "outputs": [
    {
     "data": {
      "text/plain": [
       "True"
      ]
     },
     "execution_count": 48,
     "metadata": {},
     "output_type": "execute_result"
    }
   ],
   "source": [
    "bool([1,2,3])"
   ]
  },
  {
   "cell_type": "code",
   "execution_count": 49,
   "id": "8141fb16",
   "metadata": {},
   "outputs": [
    {
     "data": {
      "text/plain": [
       "False"
      ]
     },
     "execution_count": 49,
     "metadata": {},
     "output_type": "execute_result"
    }
   ],
   "source": [
    "bool(\"\")"
   ]
  },
  {
   "cell_type": "code",
   "execution_count": 50,
   "id": "ce8ff66e",
   "metadata": {},
   "outputs": [
    {
     "data": {
      "text/plain": [
       "False"
      ]
     },
     "execution_count": 50,
     "metadata": {},
     "output_type": "execute_result"
    }
   ],
   "source": [
    "bool(0)"
   ]
  },
  {
   "cell_type": "markdown",
   "id": "7334d2e5",
   "metadata": {},
   "source": [
    "## 4. list 타입 <a class=\"anchor\" id=\"chapter4\"></a>\n",
    "- 리스트는 대괄호[] 안에 각 요소(숫자, 문자, 숫자+문자, 리스트 안에 리스트 등) 값들은 쉼표(,)로 구분"
   ]
  },
  {
   "cell_type": "markdown",
   "id": "e47bcd84",
   "metadata": {},
   "source": [
    "#### 4.1 리스트 인덱싱"
   ]
  },
  {
   "cell_type": "code",
   "execution_count": 8,
   "id": "9aa879d5",
   "metadata": {},
   "outputs": [],
   "source": [
    "a = [1,2,3,4,5]\n",
    "b = ['a','b']"
   ]
  },
  {
   "cell_type": "code",
   "execution_count": 9,
   "id": "5eb447b0",
   "metadata": {},
   "outputs": [
    {
     "data": {
      "text/plain": [
       "[1, 2, 3, 4, 5, ['a', 'b']]"
      ]
     },
     "execution_count": 9,
     "metadata": {},
     "output_type": "execute_result"
    }
   ],
   "source": [
    "a.append(b)\n",
    "a"
   ]
  },
  {
   "cell_type": "code",
   "execution_count": 10,
   "id": "780085f6",
   "metadata": {},
   "outputs": [
    {
     "data": {
      "text/plain": [
       "'b'"
      ]
     },
     "execution_count": 10,
     "metadata": {},
     "output_type": "execute_result"
    }
   ],
   "source": [
    "a[5][1]"
   ]
  },
  {
   "cell_type": "markdown",
   "id": "74fd76fc",
   "metadata": {},
   "source": [
    "#### 4.2 리스트 슬라이싱"
   ]
  },
  {
   "cell_type": "code",
   "execution_count": 11,
   "id": "254766a7",
   "metadata": {},
   "outputs": [
    {
     "data": {
      "text/plain": [
       "[1, 2, 3, 4, 5, ['a', 'b']]"
      ]
     },
     "execution_count": 11,
     "metadata": {},
     "output_type": "execute_result"
    }
   ],
   "source": [
    "a"
   ]
  },
  {
   "cell_type": "code",
   "execution_count": 12,
   "id": "9a0a0bbd",
   "metadata": {},
   "outputs": [
    {
     "data": {
      "text/plain": [
       "[1, 3, 5]"
      ]
     },
     "execution_count": 12,
     "metadata": {},
     "output_type": "execute_result"
    }
   ],
   "source": [
    "a[::2]"
   ]
  },
  {
   "cell_type": "markdown",
   "id": "2c6385a7",
   "metadata": {},
   "source": [
    "#### 4.3 리스트 연산\n",
    "- 리스트 + 문자열 X\n",
    "- 문자열 수정 불가"
   ]
  },
  {
   "cell_type": "markdown",
   "id": "02fe671d",
   "metadata": {},
   "source": [
    "#### 4.4 리스트 기초 연산 함수"
   ]
  },
  {
   "cell_type": "code",
   "execution_count": 22,
   "id": "424f0363",
   "metadata": {},
   "outputs": [],
   "source": [
    "# sum:합, max:최대값, min:최소값, del:삭제, str:문자형으로 변경"
   ]
  },
  {
   "cell_type": "code",
   "execution_count": 16,
   "id": "933b66e3",
   "metadata": {},
   "outputs": [
    {
     "data": {
      "text/plain": [
       "['6', '7', '8', '9', ['11', '12']]"
      ]
     },
     "execution_count": 16,
     "metadata": {},
     "output_type": "execute_result"
    }
   ],
   "source": [
    "# append: 리스트 추가\n",
    "b=['6','7','8','9']\n",
    "b.append(['11','12'])\n",
    "b"
   ]
  },
  {
   "cell_type": "code",
   "execution_count": 17,
   "id": "4dc52836",
   "metadata": {},
   "outputs": [
    {
     "data": {
      "text/plain": [
       "['6', '7', '8', '9']"
      ]
     },
     "execution_count": 17,
     "metadata": {},
     "output_type": "execute_result"
    }
   ],
   "source": [
    "# sort: 올림차순으로 정렬(숫자, 문자 정렬가능)\n",
    "c=['7','9','8','6']\n",
    "c.sort()\n",
    "c"
   ]
  },
  {
   "cell_type": "code",
   "execution_count": 18,
   "id": "dab1b5d6",
   "metadata": {},
   "outputs": [
    {
     "data": {
      "text/plain": [
       "['9', '8', '7', '6']"
      ]
     },
     "execution_count": 18,
     "metadata": {},
     "output_type": "execute_result"
    }
   ],
   "source": [
    "# reverse: 현재 리스트의 순서를 반대로 출력\n",
    "c.reverse()\n",
    "c"
   ]
  },
  {
   "cell_type": "code",
   "execution_count": 21,
   "id": "caae2093",
   "metadata": {},
   "outputs": [
    {
     "ename": "ValueError",
     "evalue": "'5' is not in list",
     "output_type": "error",
     "traceback": [
      "\u001b[1;31m---------------------------------------------------------------------------\u001b[0m",
      "\u001b[1;31mValueError\u001b[0m                                Traceback (most recent call last)",
      "\u001b[1;32m<ipython-input-21-27a48ec00cb9>\u001b[0m in \u001b[0;36m<module>\u001b[1;34m\u001b[0m\n\u001b[0;32m      1\u001b[0m \u001b[1;31m# index: 해당 값의 위치를 출력, 없는 값 입력하면 에러발생\u001b[0m\u001b[1;33m\u001b[0m\u001b[1;33m\u001b[0m\u001b[1;33m\u001b[0m\u001b[0m\n\u001b[1;32m----> 2\u001b[1;33m \u001b[0mc\u001b[0m\u001b[1;33m.\u001b[0m\u001b[0mindex\u001b[0m\u001b[1;33m(\u001b[0m\u001b[1;34m'5'\u001b[0m\u001b[1;33m)\u001b[0m\u001b[1;33m\u001b[0m\u001b[1;33m\u001b[0m\u001b[0m\n\u001b[0m",
      "\u001b[1;31mValueError\u001b[0m: '5' is not in list"
     ]
    }
   ],
   "source": [
    "# index: 해당 값의 위치를 출력, 없는 값 입력하면 에러발생\n",
    "c.index('5')"
   ]
  },
  {
   "cell_type": "code",
   "execution_count": 19,
   "id": "53ae820e",
   "metadata": {},
   "outputs": [
    {
     "data": {
      "text/plain": [
       "['10', '9', '8', '7', '6']"
      ]
     },
     "execution_count": 19,
     "metadata": {},
     "output_type": "execute_result"
    }
   ],
   "source": [
    "# insert: 특정 위치에 값을 추가\n",
    "c.insert(0,'10')\n",
    "c"
   ]
  },
  {
   "cell_type": "code",
   "execution_count": 25,
   "id": "ccb5b4aa",
   "metadata": {},
   "outputs": [
    {
     "ename": "ValueError",
     "evalue": "list.remove(x): x not in list",
     "output_type": "error",
     "traceback": [
      "\u001b[1;31m---------------------------------------------------------------------------\u001b[0m",
      "\u001b[1;31mValueError\u001b[0m                                Traceback (most recent call last)",
      "\u001b[1;32m<ipython-input-25-74733126ce5c>\u001b[0m in \u001b[0;36m<module>\u001b[1;34m\u001b[0m\n\u001b[0;32m      1\u001b[0m \u001b[1;31m# remove:　특정 값을 삭제(list안에 동일한 값이 여러개 있을 때 맨 앞의 값만 삭제)\u001b[0m\u001b[1;33m\u001b[0m\u001b[1;33m\u001b[0m\u001b[1;33m\u001b[0m\u001b[0m\n\u001b[1;32m----> 2\u001b[1;33m \u001b[0mc\u001b[0m\u001b[1;33m.\u001b[0m\u001b[0mremove\u001b[0m\u001b[1;33m(\u001b[0m\u001b[1;34m'6'\u001b[0m\u001b[1;33m)\u001b[0m\u001b[1;33m\u001b[0m\u001b[1;33m\u001b[0m\u001b[0m\n\u001b[0m\u001b[0;32m      3\u001b[0m \u001b[0mc\u001b[0m\u001b[1;33m\u001b[0m\u001b[1;33m\u001b[0m\u001b[0m\n",
      "\u001b[1;31mValueError\u001b[0m: list.remove(x): x not in list"
     ]
    }
   ],
   "source": [
    "# remove:　특정 값을 삭제(list안에 동일한 값이 여러개 있을 때 맨 앞의 값만 삭제)\n",
    "c.remove('6')\n",
    "c"
   ]
  },
  {
   "cell_type": "code",
   "execution_count": 31,
   "id": "f4ad7fc5",
   "metadata": {},
   "outputs": [
    {
     "data": {
      "text/plain": [
       "'9'"
      ]
     },
     "execution_count": 31,
     "metadata": {},
     "output_type": "execute_result"
    }
   ],
   "source": [
    "# pop: 빈칸 입력시 리스트의 마지막 값을 보여주고 삭제시킴. 입력시 삭제 요소의 위치 지정\n",
    "c.pop()"
   ]
  },
  {
   "cell_type": "code",
   "execution_count": 32,
   "id": "3dec1c49",
   "metadata": {},
   "outputs": [
    {
     "data": {
      "text/plain": [
       "['10']"
      ]
     },
     "execution_count": 32,
     "metadata": {},
     "output_type": "execute_result"
    }
   ],
   "source": [
    "c"
   ]
  },
  {
   "cell_type": "code",
   "execution_count": 33,
   "id": "6a868617",
   "metadata": {},
   "outputs": [
    {
     "data": {
      "text/plain": [
       "2"
      ]
     },
     "execution_count": 33,
     "metadata": {},
     "output_type": "execute_result"
    }
   ],
   "source": [
    "# count:　동일한 값 개수 세기\n",
    "c = [3,3,3,3,3,3,3,4,5,5]\n",
    "c.count(5)"
   ]
  },
  {
   "cell_type": "code",
   "execution_count": 34,
   "id": "98c497d6",
   "metadata": {},
   "outputs": [
    {
     "data": {
      "text/plain": [
       "[3, 3, 3, 3, 3, 3, 3, 4, 5, 5, 4, 5]"
      ]
     },
     "execution_count": 34,
     "metadata": {},
     "output_type": "execute_result"
    }
   ],
   "source": [
    "# extend:　리스트의 요소 추가 (괄호 안에 리스트만 올 수 있음, append와의 차이 구분)\n",
    "c.extend([4,5])\n",
    "c"
   ]
  },
  {
   "cell_type": "markdown",
   "id": "858100e2",
   "metadata": {},
   "source": [
    "## 5. tuple 타입 <a class=\"anchor\" id=\"chapter5\"></a>\n",
    "- 차이점은 리스트는 대괄호 []를 사용하고 튜플은 소괄호( )를 사용 (괄호생략가능)하며, 리스트는 수정이 가능하지만 튜플은 수정이 불가능함\n",
    "- 튜플에서는 괄호안에 한 개의 요소를 가질 때는 (1,)와 같이 마지막에 콤마 필요\n",
    "- 콤마(,)를 붙이지 않으면 튜플이 아닌 정수 타입이 생성\n",
    "- 프로그램을 실행되는 동안 그 값이 항상 변화지 않아야 한다면, 튜플을 사용하고 값이 자주 바뀐다면 리스트를 사용"
   ]
  },
  {
   "cell_type": "code",
   "execution_count": 37,
   "id": "b0627933",
   "metadata": {},
   "outputs": [
    {
     "data": {
      "text/plain": [
       "(1, 2, ('ab', 'cd'), 3, 4)"
      ]
     },
     "execution_count": 37,
     "metadata": {},
     "output_type": "execute_result"
    }
   ],
   "source": [
    "e = 1,2,('ab','cd'),3,4\n",
    "e"
   ]
  },
  {
   "cell_type": "code",
   "execution_count": 38,
   "id": "8cbdca93",
   "metadata": {},
   "outputs": [
    {
     "data": {
      "text/plain": [
       "tuple"
      ]
     },
     "execution_count": 38,
     "metadata": {},
     "output_type": "execute_result"
    }
   ],
   "source": [
    "type(e)"
   ]
  },
  {
   "cell_type": "markdown",
   "id": "ea0bbf38",
   "metadata": {},
   "source": [
    "+ 튜플은 수정 및 변경 불가"
   ]
  },
  {
   "cell_type": "code",
   "execution_count": 39,
   "id": "6679ef8b",
   "metadata": {},
   "outputs": [
    {
     "ename": "TypeError",
     "evalue": "'tuple' object doesn't support item deletion",
     "output_type": "error",
     "traceback": [
      "\u001b[1;31m---------------------------------------------------------------------------\u001b[0m",
      "\u001b[1;31mTypeError\u001b[0m                                 Traceback (most recent call last)",
      "\u001b[1;32m<ipython-input-39-88f9a3ba7b63>\u001b[0m in \u001b[0;36m<module>\u001b[1;34m\u001b[0m\n\u001b[1;32m----> 1\u001b[1;33m \u001b[1;32mdel\u001b[0m \u001b[0me\u001b[0m\u001b[1;33m[\u001b[0m\u001b[1;36m0\u001b[0m\u001b[1;33m]\u001b[0m\u001b[1;33m\u001b[0m\u001b[1;33m\u001b[0m\u001b[0m\n\u001b[0m",
      "\u001b[1;31mTypeError\u001b[0m: 'tuple' object doesn't support item deletion"
     ]
    }
   ],
   "source": [
    "del e[0]"
   ]
  },
  {
   "cell_type": "markdown",
   "id": "4f1ec1ca",
   "metadata": {},
   "source": [
    "<a class=\"anchor\" id=\"chapter6\"></a>\n",
    "## 6. dict 타입\n",
    "- key와 value를 한 쌍으로 가지고 있는 자료형\n",
    "- {key1:value1,key2:value2,key3:value3...}\n",
    "- 위치자리에 key값을 입력하면 value 출력"
   ]
  },
  {
   "cell_type": "code",
   "execution_count": 44,
   "id": "441e8a79",
   "metadata": {},
   "outputs": [],
   "source": [
    "a = {'gender':'male','age':24,'name':'minmin'}"
   ]
  },
  {
   "cell_type": "code",
   "execution_count": 45,
   "id": "da45b85b",
   "metadata": {},
   "outputs": [
    {
     "data": {
      "text/plain": [
       "dict"
      ]
     },
     "execution_count": 45,
     "metadata": {},
     "output_type": "execute_result"
    }
   ],
   "source": [
    "type(a)"
   ]
  },
  {
   "cell_type": "code",
   "execution_count": 46,
   "id": "627610da",
   "metadata": {},
   "outputs": [
    {
     "data": {
      "text/plain": [
       "'male'"
      ]
     },
     "execution_count": 46,
     "metadata": {},
     "output_type": "execute_result"
    }
   ],
   "source": [
    "a['gender']"
   ]
  },
  {
   "cell_type": "markdown",
   "id": "9941f7c8",
   "metadata": {},
   "source": [
    "+ 사전에서 추가 및 삭제하기"
   ]
  },
  {
   "cell_type": "code",
   "execution_count": 47,
   "id": "315db166",
   "metadata": {},
   "outputs": [],
   "source": [
    "del a['name']\n",
    "a"
   ]
  },
  {
   "cell_type": "code",
   "execution_count": 49,
   "id": "deb96316",
   "metadata": {},
   "outputs": [],
   "source": [
    "a['name'] = 'minmin'\n",
    "a"
   ]
  },
  {
   "cell_type": "markdown",
   "id": "24e0d492",
   "metadata": {},
   "source": [
    "+ 사전 함수"
   ]
  },
  {
   "cell_type": "code",
   "execution_count": 51,
   "id": "2116cb27",
   "metadata": {},
   "outputs": [
    {
     "data": {
      "text/plain": [
       "dict_keys(['gender', 'age', 'name'])"
      ]
     },
     "execution_count": 51,
     "metadata": {},
     "output_type": "execute_result"
    }
   ],
   "source": [
    "a.keys()"
   ]
  },
  {
   "cell_type": "code",
   "execution_count": 52,
   "id": "a0a0d7dd",
   "metadata": {},
   "outputs": [
    {
     "data": {
      "text/plain": [
       "['gender', 'age', 'name']"
      ]
     },
     "execution_count": 52,
     "metadata": {},
     "output_type": "execute_result"
    }
   ],
   "source": [
    "list(a.keys())"
   ]
  },
  {
   "cell_type": "code",
   "execution_count": 53,
   "id": "321688df",
   "metadata": {},
   "outputs": [
    {
     "data": {
      "text/plain": [
       "dict_values(['male', 24, 'minmin'])"
      ]
     },
     "execution_count": 53,
     "metadata": {},
     "output_type": "execute_result"
    }
   ],
   "source": [
    "a.values()"
   ]
  },
  {
   "cell_type": "code",
   "execution_count": 54,
   "id": "b877a5d4",
   "metadata": {},
   "outputs": [
    {
     "data": {
      "text/plain": [
       "dict_items([('gender', 'male'), ('age', 24), ('name', 'minmin')])"
      ]
     },
     "execution_count": 54,
     "metadata": {},
     "output_type": "execute_result"
    }
   ],
   "source": [
    "a.items()"
   ]
  },
  {
   "cell_type": "code",
   "execution_count": 55,
   "id": "9962fa1c",
   "metadata": {},
   "outputs": [
    {
     "data": {
      "text/plain": [
       "'male'"
      ]
     },
     "execution_count": 55,
     "metadata": {},
     "output_type": "execute_result"
    }
   ],
   "source": [
    "a.get('gender')"
   ]
  },
  {
   "cell_type": "code",
   "execution_count": 56,
   "id": "8c6f6c69",
   "metadata": {},
   "outputs": [
    {
     "data": {
      "text/plain": [
       "'?'"
      ]
     },
     "execution_count": 56,
     "metadata": {},
     "output_type": "execute_result"
    }
   ],
   "source": [
    "a.get('height','?')"
   ]
  },
  {
   "cell_type": "code",
   "execution_count": 58,
   "id": "abd7b7f8",
   "metadata": {},
   "outputs": [
    {
     "data": {
      "text/plain": [
       "True"
      ]
     },
     "execution_count": 58,
     "metadata": {},
     "output_type": "execute_result"
    }
   ],
   "source": [
    "'gender' in a"
   ]
  }
 ],
 "metadata": {
  "kernelspec": {
   "display_name": "Python 3",
   "language": "python",
   "name": "python3"
  },
  "language_info": {
   "codemirror_mode": {
    "name": "ipython",
    "version": 3
   },
   "file_extension": ".py",
   "mimetype": "text/x-python",
   "name": "python",
   "nbconvert_exporter": "python",
   "pygments_lexer": "ipython3",
   "version": "3.8.8"
  }
 },
 "nbformat": 4,
 "nbformat_minor": 5
}
