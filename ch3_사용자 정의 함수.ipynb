{
 "cells": [
  {
   "cell_type": "markdown",
   "id": "cd0fd64e",
   "metadata": {},
   "source": [
    "# 사용자 정의 함수\n",
    "\n",
    "* [1. 함수](#chapter1)\n",
    "* [2. 함수의 활용](#chapter2)"
   ]
  },
  {
   "cell_type": "markdown",
   "id": "1ec0ece5",
   "metadata": {},
   "source": [
    "<a class=\"anchor\" id=\"chapter1\"></a>\n",
    "## 1. 함수"
   ]
  },
  {
   "cell_type": "markdown",
   "id": "48c0c8dc",
   "metadata": {},
   "source": [
    "### 내장함수\n",
    "- 파이썬에 미리 정의된 함수\n",
    "- print(), type(), str(), len() 등\n",
    "- 함수를 제대로 사용하기 위해서는 각 함수 사용하는 방법(input값 설정 등)을 이해"
   ]
  },
  {
   "cell_type": "markdown",
   "id": "264934f9",
   "metadata": {},
   "source": [
    "### 사용자 정의 함수\n",
    "- 프로그래밍 코드를 작성하다보면 반복되는 코드를 줄여주기 위해 특정 코드를 함수 안에 정의하고, 그 코드를 함수명칭을 호출함으로써 코드를 실행하게 함\n",
    "- 함수의 구조\n",
    "    - def 함수명(파라미터):\n",
    "    -      실행될 코드\n",
    "    -    return 결과 값"
   ]
  },
  {
   "cell_type": "markdown",
   "id": "481e2c0e",
   "metadata": {},
   "source": [
    "<a class=\"anchor\" id=\"chapter2\"></a>\n",
    "## 2. 함수의 활용"
   ]
  },
  {
   "cell_type": "markdown",
   "id": "f3743f78",
   "metadata": {},
   "source": [
    "### 사용자 정의 함수 만들기\n",
    "사용자 정의 함수 활용 예"
   ]
  },
  {
   "cell_type": "code",
   "execution_count": 7,
   "id": "d65ec3f1",
   "metadata": {},
   "outputs": [],
   "source": [
    "def square(x): #제곱\n",
    "    return x*x"
   ]
  },
  {
   "cell_type": "code",
   "execution_count": 8,
   "id": "ea7a9164",
   "metadata": {},
   "outputs": [
    {
     "data": {
      "text/plain": [
       "25"
      ]
     },
     "execution_count": 8,
     "metadata": {},
     "output_type": "execute_result"
    }
   ],
   "source": [
    "square(5)"
   ]
  },
  {
   "cell_type": "code",
   "execution_count": 15,
   "id": "35a567b9",
   "metadata": {},
   "outputs": [],
   "source": [
    "def even_or_odd(n): #홀수 짝수 구분\n",
    "    if n % 2 == 0:\n",
    "        print(\"even\")\n",
    "        return\n",
    "    print(\"odd\")"
   ]
  },
  {
   "cell_type": "code",
   "execution_count": 16,
   "id": "c81a090f",
   "metadata": {},
   "outputs": [
    {
     "name": "stdout",
     "output_type": "stream",
     "text": [
      "odd\n"
     ]
    }
   ],
   "source": [
    "even_or_odd(3)"
   ]
  },
  {
   "cell_type": "code",
   "execution_count": 17,
   "id": "131be268",
   "metadata": {},
   "outputs": [
    {
     "name": "stdout",
     "output_type": "stream",
     "text": [
      "even\n"
     ]
    }
   ],
   "source": [
    "even_or_odd(4)"
   ]
  },
  {
   "cell_type": "markdown",
   "id": "cec7ae0e",
   "metadata": {},
   "source": [
    "입력값이 몇 개일지 모를 때\n",
    "+ 매개변수 앞에 *을 추가\n",
    "+ def 함수이름(*매개변수):"
   ]
  },
  {
   "cell_type": "code",
   "execution_count": 18,
   "id": "c82637ed",
   "metadata": {},
   "outputs": [],
   "source": [
    "def add_many(*args):\n",
    "    result = 0\n",
    "    for i in args:\n",
    "        result = result + i\n",
    "    return result"
   ]
  },
  {
   "cell_type": "code",
   "execution_count": 19,
   "id": "e67a96f1",
   "metadata": {},
   "outputs": [
    {
     "data": {
      "text/plain": [
       "10"
      ]
     },
     "execution_count": 19,
     "metadata": {},
     "output_type": "execute_result"
    }
   ],
   "source": [
    "add_many(1,2,3,4)"
   ]
  },
  {
   "cell_type": "code",
   "execution_count": 20,
   "id": "9a9261a1",
   "metadata": {},
   "outputs": [],
   "source": [
    "#여러 개의 입력값을 의미하는 *args 매개변수 앞에 choice 매개변수가 추가\n",
    "def add_many(choice,*args):\n",
    "    result = 0\n",
    "    if choice == \"good\":\n",
    "        for i in args:\n",
    "            result = result + i\n",
    "    elif choice == \"bad\":\n",
    "        for i in args:\n",
    "            result = result - i\n",
    "    return result"
   ]
  },
  {
   "cell_type": "code",
   "execution_count": 21,
   "id": "cf386a9a",
   "metadata": {},
   "outputs": [
    {
     "data": {
      "text/plain": [
       "15"
      ]
     },
     "execution_count": 21,
     "metadata": {},
     "output_type": "execute_result"
    }
   ],
   "source": [
    "add_many(\"good\",1,2,3,4,5)"
   ]
  },
  {
   "cell_type": "markdown",
   "id": "6e9a3c97",
   "metadata": {},
   "source": [
    "- return을 활용하여 함수 빠져나오기\n",
    "    - 특별한 상황일 때 함수를 빠져나가고 싶다면 return을 단독으로 써서 함수를 즉시 빠져나갈 수 있음"
   ]
  },
  {
   "cell_type": "code",
   "execution_count": 23,
   "id": "a4d81a18",
   "metadata": {},
   "outputs": [],
   "source": [
    "def say_nick(nick):\n",
    "    if nick == \"바보\":\n",
    "        return\n",
    "    print(\"나의 별명은 %s 입니다.\" % nick)"
   ]
  },
  {
   "cell_type": "code",
   "execution_count": 24,
   "id": "f5964e0b",
   "metadata": {},
   "outputs": [],
   "source": [
    "say_nick('바보')"
   ]
  },
  {
   "cell_type": "code",
   "execution_count": 25,
   "id": "2d0bc74a",
   "metadata": {},
   "outputs": [
    {
     "name": "stdout",
     "output_type": "stream",
     "text": [
      "나의 별명은 천재 입니다.\n"
     ]
    }
   ],
   "source": [
    "say_nick(\"천재\")"
   ]
  },
  {
   "cell_type": "markdown",
   "id": "c4a4c848",
   "metadata": {},
   "source": [
    "- 매개변수에 초기값 미리 입력하기\n",
    "    - say_myself 함수는 3개의 매개변수를 받아서 마지막 인수인 man이 True이면 \"남자입니다.\", False이면 \"여자입니다.\"를 출력\n",
    "    - man=True처럼 매개변수에 미리 값을 넣어 줌. 함수의 매개변수에 들어갈 값이 항상 변하는 것이 아닐 경우에는 이렇게 함수의 초기값을 미리 설정해 두면 유용함"
   ]
  },
  {
   "cell_type": "code",
   "execution_count": 27,
   "id": "b296776a",
   "metadata": {},
   "outputs": [],
   "source": [
    "def say_myself(name, old, man=True): #\n",
    "    print(\"나의 이름은 %s 입니다.\" % name) \n",
    "    print(\"나이는 %d살입니다.\" % old) \n",
    "    if man: \n",
    "        print(\"남자입니다.\")\n",
    "    else: \n",
    "        print(\"여자입니다.\")"
   ]
  },
  {
   "cell_type": "code",
   "execution_count": 33,
   "id": "6ae3a393",
   "metadata": {},
   "outputs": [
    {
     "name": "stdout",
     "output_type": "stream",
     "text": [
      "나의 이름은 김민규 입니다.\n",
      "나이는 24살입니다.\n",
      "남자입니다.\n"
     ]
    }
   ],
   "source": [
    "say_myself(\"김민규\",24)"
   ]
  },
  {
   "cell_type": "markdown",
   "id": "40f17104",
   "metadata": {},
   "source": [
    "- 함수 안에 선언한 변수의 효력 범위\n",
    "    - 함수 안에서 새로 만든 매개변수는 **함수 안에서만 사용하는 \"함수만의 변수\"**임\n",
    "    - 입력값을 전달받는 매개변수 a는 함수 안에서만 사용하는 변수이지 함수 밖의 변수 a가 아님"
   ]
  },
  {
   "cell_type": "code",
   "execution_count": 37,
   "id": "e2992548",
   "metadata": {},
   "outputs": [],
   "source": [
    "a = 1"
   ]
  },
  {
   "cell_type": "code",
   "execution_count": 40,
   "id": "ab8b7866",
   "metadata": {},
   "outputs": [],
   "source": [
    "def var(a):\n",
    "    a=a+1"
   ]
  },
  {
   "cell_type": "code",
   "execution_count": 41,
   "id": "97ce4536",
   "metadata": {},
   "outputs": [],
   "source": [
    "var(a)"
   ]
  },
  {
   "cell_type": "code",
   "execution_count": 42,
   "id": "c4cc097e",
   "metadata": {},
   "outputs": [
    {
     "data": {
      "text/plain": [
       "1"
      ]
     },
     "execution_count": 42,
     "metadata": {},
     "output_type": "execute_result"
    }
   ],
   "source": [
    "a"
   ]
  },
  {
   "cell_type": "markdown",
   "id": "a0ca465e",
   "metadata": {},
   "source": [
    "- **함수 안에서 함수 밖의 변수를 변경하는 방법**\n",
    "    - vartest라는 함수를 사용해서 함수 밖의 변수 a를 1만큼 증가시킬 수 있는 방법\n",
    "    - return 사용하는 방법과 **global 명령어 사용**하여 가능"
   ]
  },
  {
   "cell_type": "code",
   "execution_count": 53,
   "id": "eaf550ff",
   "metadata": {},
   "outputs": [],
   "source": [
    "a=1"
   ]
  },
  {
   "cell_type": "code",
   "execution_count": 54,
   "id": "7c1162f8",
   "metadata": {},
   "outputs": [],
   "source": [
    "#return 사용\n",
    "def vartest(a): \n",
    "    a = a +1 \n",
    "    return a\n",
    "\n",
    "a = vartest(a)"
   ]
  },
  {
   "cell_type": "code",
   "execution_count": 55,
   "id": "f7749fb0",
   "metadata": {},
   "outputs": [
    {
     "data": {
      "text/plain": [
       "3"
      ]
     },
     "execution_count": 55,
     "metadata": {},
     "output_type": "execute_result"
    }
   ],
   "source": [
    "vartest(a)"
   ]
  },
  {
   "cell_type": "code",
   "execution_count": 56,
   "id": "6e0bf1b8",
   "metadata": {},
   "outputs": [
    {
     "name": "stdout",
     "output_type": "stream",
     "text": [
      "2\n"
     ]
    }
   ],
   "source": [
    "print(a)"
   ]
  },
  {
   "cell_type": "code",
   "execution_count": 57,
   "id": "76cf34dd",
   "metadata": {},
   "outputs": [],
   "source": [
    "a = 1"
   ]
  },
  {
   "cell_type": "code",
   "execution_count": 58,
   "id": "cd2ec638",
   "metadata": {},
   "outputs": [],
   "source": [
    "#global 명령어 사용\n",
    "def vartest(): \n",
    "    global a \n",
    "    a = a+1"
   ]
  },
  {
   "cell_type": "code",
   "execution_count": 59,
   "id": "2b28a2a4",
   "metadata": {},
   "outputs": [],
   "source": [
    "vartest()"
   ]
  },
  {
   "cell_type": "code",
   "execution_count": 60,
   "id": "76bc0019",
   "metadata": {},
   "outputs": [
    {
     "name": "stdout",
     "output_type": "stream",
     "text": [
      "2\n"
     ]
    }
   ],
   "source": [
    "print(a)"
   ]
  },
  {
   "cell_type": "code",
   "execution_count": null,
   "id": "1232b029",
   "metadata": {},
   "outputs": [],
   "source": []
  }
 ],
 "metadata": {
  "kernelspec": {
   "display_name": "Python 3",
   "language": "python",
   "name": "python3"
  },
  "language_info": {
   "codemirror_mode": {
    "name": "ipython",
    "version": 3
   },
   "file_extension": ".py",
   "mimetype": "text/x-python",
   "name": "python",
   "nbconvert_exporter": "python",
   "pygments_lexer": "ipython3",
   "version": "3.8.8"
  }
 },
 "nbformat": 4,
 "nbformat_minor": 5
}
